{
 "cells": [
  {
   "cell_type": "code",
   "execution_count": 27,
   "metadata": {},
   "outputs": [
    {
     "name": "stdout",
     "output_type": "stream",
     "text": [
      "torch.Size([1, 1, 28, 28])\n",
      "Original label: 0\n",
      "Adversarial label: 0\n"
     ]
    }
   ],
   "source": [
    "import sys\n",
    "import os\n",
    "import torch\n",
    "import torch.nn as nn\n",
    "CONTENT_PATH = '/home/yifan/dataset/case_study_mnist_backdoor'\n",
    "sys.path.append(CONTENT_PATH)\n",
    "import Model.model as subject_model\n",
    "model = eval(\"subject_model.{}()\".format('resnet18'))\n",
    "\n",
    "# 加载预训练模型\n",
    "\n",
    "model.eval()\n",
    "\n",
    "train_data = torch.load(os.path.join(CONTENT_PATH, 'Training_data','training_dataset_data.pth'))\n",
    "train_labels = torch.load(os.path.join(CONTENT_PATH, 'Training_data','training_dataset_label.pth'))\n",
    "img_tensor = train_data[:1]\n",
    "\n",
    "device = torch.device(\"cuda:0\" if torch.cuda.is_available() else \"cpu\")\n",
    "img_tensor = img_tensor.to(device)\n",
    "model = model.to(device)\n",
    "print(img_tensor.shape)\n",
    "# # 设置epsilon\n",
    "epsilon = 0.01\n",
    "\n",
    "# # 计算图像对模型的梯度\n",
    "img_tensor.requires_grad = True\n",
    "output = model(img_tensor)\n",
    "label = output.max(1)[1]\n",
    "loss = nn.CrossEntropyLoss()(output, label)\n",
    "loss.backward()\n",
    "\n",
    "# # 应用FGSM算法\n",
    "img_adv = img_tensor + epsilon * img_tensor.grad.sign()\n",
    "img_adv = torch.clamp(img_adv, 0, 1)\n",
    "\n",
    "# # check adv\n",
    "output_adv = model(img_adv)\n",
    "predicted_label = output_adv.max(1)[1]\n",
    "print(\"Original label:\", label.item())\n",
    "print(\"Adversarial label:\", predicted_label.item())\n"
   ]
  }
 ],
 "metadata": {
  "kernelspec": {
   "display_name": "deepdebugger",
   "language": "python",
   "name": "deepdebugger"
  },
  "language_info": {
   "codemirror_mode": {
    "name": "ipython",
    "version": 3
   },
   "file_extension": ".py",
   "mimetype": "text/x-python",
   "name": "python",
   "nbconvert_exporter": "python",
   "pygments_lexer": "ipython3",
   "version": "3.7.15"
  }
 },
 "nbformat": 4,
 "nbformat_minor": 2
}
