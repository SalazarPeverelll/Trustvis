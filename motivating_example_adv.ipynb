{
 "cells": [
  {
   "cell_type": "code",
   "execution_count": 25,
   "metadata": {},
   "outputs": [
    {
     "name": "stdout",
     "output_type": "stream",
     "text": [
      "torch.Size([1, 1, 28, 28])\n",
      "Adversarial attack successful at step 18!\n"
     ]
    },
    {
     "data": {
      "image/png": "[encoded data removed]",
      "text/plain": [
       "<Figure size 640x480 with 1 Axes>"
      ]
     },
     "metadata": {},
     "output_type": "display_data"
    }
   ],
   "source": [
    "import sys\n",
    "import os\n",
    "import torch\n",
    "import torch.nn as nn\n",
    "CONTENT_PATH = '/home/yifan/0ExpMinist/Default/02'\n",
    "sys.path.append(CONTENT_PATH)\n",
    "import Model.model as subject_model\n",
    "model = eval(\"subject_model.{}()\".format('resnet18'))\n",
    "import matplotlib.pyplot as plt\n",
    "# 加载预训练模型\n",
    "\n",
    "model_location = os.path.join(CONTENT_PATH,'Model', \"{}_{:d}\".format('Epoch', 3), \"subject_model.pth\")\n",
    "model.load_state_dict(torch.load(model_location, map_location=torch.device(\"cpu\")),strict=False)\n",
    "model.eval()\n",
    "\n",
    "train_data = torch.load(os.path.join(CONTENT_PATH, 'Training_data','training_dataset_data.pth'))\n",
    "train_labels = torch.load(os.path.join(CONTENT_PATH, 'Training_data','training_dataset_label.pth'))\n",
    "img_tensor = train_data[5:6]\n",
    "img_label = train_labels[5:6]\n",
    "\n",
    "device = torch.device(\"cuda:0\" if torch.cuda.is_available() else \"cpu\")\n",
    "img_tensor = img_tensor.to(device)\n",
    "img_label = img_label.to(device)\n",
    "model = model.to(device)\n",
    "print(img_tensor.shape)\n",
    "# Set the target label to '1'\n",
    "target_label = torch.tensor([1], dtype=torch.long).to(device)\n",
    "\n",
    "\n",
    "loss_fn = torch.nn.CrossEntropyLoss()\n",
    "# # 设置epsilon\n",
    "\n",
    "epsilon = 0.01  # Smaller step size for iterative attack\n",
    "num_steps = 1000 \n",
    "# Set requires_grad attribute of tensor. Important for Attack\n",
    "img_tensor.requires_grad = True\n",
    "# Forward pass the data through the model\n",
    "output = model(img_tensor)\n",
    "init_pred = output.max(1, keepdim=True)[1]  # get the index of the max log-probability\n",
    "# If the initial prediction is already '1', no need to attack\n",
    "steps = []\n",
    "if init_pred.item() == 1:\n",
    "    print(\"The initial prediction is already 1\")\n",
    "else:\n",
    "    for i in range(num_steps):\n",
    "        # Zero all existing gradients\n",
    "        model.zero_grad()\n",
    "        # Forward pass\n",
    "        output = model(img_tensor)\n",
    "        loss = loss_fn(output, target_label)\n",
    "        # If misclassification has occurred, break out of the loop\n",
    "        pred = output.max(1, keepdim=True)[1]\n",
    "        steps.append(img_tensor)\n",
    "        if pred.item() == 1:\n",
    "            print(f\"Adversarial attack successful at step {i+1}!\")\n",
    "            break\n",
    "        # Backward pass\n",
    "        loss.backward()\n",
    "\n",
    "        # Apply perturbation\n",
    "        img_tensor.data -= epsilon * img_tensor.grad.data.sign()  # Subtract to minimize the loss\n",
    "        img_tensor.data = torch.clamp(img_tensor.data, 0, 1).to(device)\n",
    "        # Clear gradients for next step\n",
    "        img_tensor.grad.zero_()\n",
    "\n",
    "    else:\n",
    "        print(\"Failed to fool the model within the given steps.\")\n",
    " \n",
    "    # Display final result\n",
    "    final_pred = model(img_tensor).max(1, keepdim=True)[1]\n",
    "    perturbed_image_np = img_tensor.squeeze().detach().cpu().numpy()\n",
    "    plt.imshow(perturbed_image_np)\n",
    "    plt.title(f\"Initial Prediction: {init_pred.item()}, Final Prediction: {final_pred.item()}\")\n",
    "    plt.show()"
   ]
  },
  {
   "cell_type": "code",
   "execution_count": 22,
   "metadata": {},
   "outputs": [
    {
     "data": {
      "text/plain": [
       "8"
      ]
     },
     "execution_count": 22,
     "metadata": {},
     "output_type": "execute_result"
    }
   ],
   "source": [
    "len(steps)"
   ]
  }
 ],
 "metadata": {
  "kernelspec": {
   "display_name": "deepdebugger",
   "language": "python",
   "name": "deepdebugger"
  },
  "language_info": {
   "codemirror_mode": {
    "name": "ipython",
    "version": 3
   },
   "file_extension": ".py",
   "mimetype": "text/x-python",
   "name": "python",
   "nbconvert_exporter": "python",
   "pygments_lexer": "ipython3",
   "version": "3.7.15"
  }
 },
 "nbformat": 4,
 "nbformat_minor": 2
}
