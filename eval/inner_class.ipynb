{
 "cells": [
  {
   "cell_type": "code",
   "execution_count": 1,
   "metadata": {},
   "outputs": [
    {
     "name": "stderr",
     "output_type": "stream",
     "text": [
      "/home/yifan/miniconda3/envs/deepdebugger/lib/python3.7/site-packages/tqdm/auto.py:22: TqdmWarning: IProgress not found. Please update jupyter and ipywidgets. See https://ipywidgets.readthedocs.io/en/stable/user_install.html\n",
      "  from .autonotebook import tqdm as notebook_tqdm\n"
     ]
    },
    {
     "name": "stdout",
     "output_type": "stream",
     "text": [
      "Finish initialization...\n"
     ]
    },
    {
     "name": "stderr",
     "output_type": "stream",
     "text": [
      "100%|██████████| 250/250 [00:00<00:00, 321.04it/s]\n"
     ]
    }
   ],
   "source": [
    "# evaluate the inner class cluster \n",
    "import sys\n",
    "import os\n",
    "import json\n",
    "VIS_METHOD='DVI'\n",
    "sys.path.append('..')\n",
    "epoch = 10\n",
    "EPOCH_START = epoch\n",
    "EPOCH_END = epoch\n",
    "DEVICE=\"cuda:0\"\n",
    "CONTENT_PATH = '/home/yifan/dataset/clean/pairflip/cifar10/0'\n",
    "from singleVis.data import NormalDataProvider\n",
    "from trustVis.skeleton_generator import CenterSkeletonGenerator\n",
    "sys.path.append(CONTENT_PATH)\n",
    "with open(os.path.join(CONTENT_PATH, \"config.json\"), \"r\") as f:\n",
    "    config = json.load(f)\n",
    "config = config[VIS_METHOD]\n",
    "\n",
    "# record output information\n",
    "# now = time.strftime(\"%Y-%m-%d-%H_%M_%S\", time.localtime(time.time())) \n",
    "# sys.stdout = open(os.path.join(CONTENT_PATH, now+\".txt\"), \"w\")\n",
    "\n",
    "SETTING = config[\"SETTING\"]\n",
    "CLASSES = config[\"CLASSES\"]\n",
    "TRAINING_PARAMETER = config[\"TRAINING\"]\n",
    "NET = TRAINING_PARAMETER[\"NET\"]\n",
    "import Model.model as subject_model\n",
    "net = eval(\"subject_model.{}()\".format(NET))\n",
    "data_provider = NormalDataProvider(CONTENT_PATH, net, EPOCH_START, EPOCH_END, 1, device=DEVICE, epoch_name='Epoch',classes=CLASSES,verbose=1)\n",
    "train_data = data_provider.train_representation(EPOCH_START)\n",
    "train_data = train_data.reshape(train_data.shape[0], train_data.shape[1])\n",
    "train_data_pred = data_provider.get_pred(EPOCH_START, train_data)\n",
    "train_data_pred_Res = train_data_pred.argmax(axis=1)"
   ]
  },
  {
   "cell_type": "code",
   "execution_count": 2,
   "metadata": {},
   "outputs": [],
   "source": [
    "from singleVis.projector import DVIProjector\n",
    "from singleVis.SingleVisualizationModel import VisModel\n",
    "\n",
    "import numpy as np\n",
    "\n",
    "VISUALIZATION_PARAMETER = config[\"VISUALIZATION\"]\n",
    "ENCODER_DIMS = VISUALIZATION_PARAMETER[\"ENCODER_DIMS\"]\n",
    "DECODER_DIMS = VISUALIZATION_PARAMETER[\"DECODER_DIMS\"]\n",
    "model = VisModel(ENCODER_DIMS, DECODER_DIMS)\n",
    "from sklearn.cluster import KMeans\n",
    "\n",
    "def get_overlap(train_data, emb, pred):\n",
    "    kmeans = KMeans(n_clusters=2) \n",
    "    ratio_l = []\n",
    "    for i in range(10):\n",
    "        train_data_pred_for_sin = np.where(pred == i)[0]\n",
    "        emb_for_sin = emb[train_data_pred_for_sin]\n",
    "        train_data_sin = train_data[train_data_pred_for_sin]\n",
    "        kmeans.fit(train_data_sin)\n",
    "        labels_h = kmeans.labels_\n",
    "\n",
    "        kmeans.fit(emb_for_sin)\n",
    "        labels_l = kmeans.labels_\n",
    "\n",
    "        mismatch_count = np.sum(labels_h != labels_l)\n",
    "        # Computing the final ratio\n",
    "        ratio = max(mismatch_count, len(labels_l) - mismatch_count) / len(labels_l)\n",
    "        ratio_l.append(ratio)\n",
    "        print(\"class{}, overlap rate is:{}\".format(i, ratio))\n",
    "    ave = sum(ratio_l) / len(ratio_l)\n",
    "    print(\"avrage:{}\".format(ave))\n",
    "    return ave\n"
   ]
  },
  {
   "cell_type": "code",
   "execution_count": 26,
   "metadata": {},
   "outputs": [
    {
     "name": "stdout",
     "output_type": "stream",
     "text": [
      "Successfully load the DVI visualization model for iteration 150\n",
      "class0, overlap rate is:0.7770445910817837\n",
      "class1, overlap rate is:0.9264\n",
      "class2, overlap rate is:0.5296940611877624\n",
      "class3, overlap rate is:0.9126524085548671\n",
      "class4, overlap rate is:0.8998200359928015\n",
      "class5, overlap rate is:0.8866\n",
      "class6, overlap rate is:0.9237542525515309\n",
      "class7, overlap rate is:0.8309661932386477\n",
      "class8, overlap rate is:0.9453781512605042\n",
      "class9, overlap rate is:0.9448\n",
      "avrage:0.8577109693867897\n"
     ]
    }
   ],
   "source": [
    "VIS_MODEL_NAME = 'proxy' ### saved_as VIS_MODEL_NAME.pth\n",
    "\n",
    "# Define Projector\n",
    "projector = DVIProjector(vis_model=model, content_path=CONTENT_PATH, vis_model_name=VIS_MODEL_NAME, device=DEVICE)\n",
    "emb = projector.batch_project(EPOCH_START, train_data)\n",
    "av = get_overlap(train_data, emb)"
   ]
  },
  {
   "cell_type": "code",
   "execution_count": 5,
   "metadata": {},
   "outputs": [
    {
     "name": "stdout",
     "output_type": "stream",
     "text": [
      "Successfully load the DVI visualization model for iteration 50\n",
      "class0, overlap rate is:0.5758638835292054\n",
      "class1, overlap rate is:0.6123448726322664\n",
      "class2, overlap rate is:0.5605786618444847\n",
      "class3, overlap rate is:0.6227720696162717\n",
      "class4, overlap rate is:0.6525057237344187\n",
      "class5, overlap rate is:0.6062317429406037\n",
      "class6, overlap rate is:0.5460873739798368\n",
      "class7, overlap rate is:0.6000375023438965\n",
      "class8, overlap rate is:0.6286089238845144\n",
      "class9, overlap rate is:0.5175363558597091\n",
      "avrage:0.5922567110365208\n"
     ]
    }
   ],
   "source": [
    "# VIS_MODEL_NAME =  'base'\n",
    "# VIS_MODEL_NAME =  'trustbase_gen_border'\n",
    "# epoch = 50\n",
    "# Define Projector\n",
    "projector = DVIProjector(vis_model=model, content_path=CONTENT_PATH, vis_model_name=VIS_MODEL_NAME, device=DEVICE)\n",
    "emb = projector.batch_project(epoch, train_data)\n",
    "av = get_overlap(train_data, emb, train_data_pred_Res)"
   ]
  },
  {
   "cell_type": "code",
   "execution_count": 7,
   "metadata": {},
   "outputs": [
    {
     "name": "stderr",
     "output_type": "stream",
     "text": [
      "100%|██████████| 50/50 [00:00<00:00, 14283.83it/s]\n"
     ]
    },
    {
     "name": "stdout",
     "output_type": "stream",
     "text": [
      "Successfully load the DVI visualization model for iteration 10\n",
      "class0, overlap rate is:0.6690796277145812\n",
      "class1, overlap rate is:0.9536307961504812\n"
     ]
    },
    {
     "name": "stdout",
     "output_type": "stream",
     "text": [
      "class2, overlap rate is:0.8342967244701349\n",
      "class3, overlap rate is:0.9401960784313725\n",
      "class4, overlap rate is:0.8113804004214963\n",
      "class5, overlap rate is:0.9403973509933775\n",
      "class6, overlap rate is:0.9650565262076053\n",
      "class7, overlap rate is:0.7799227799227799\n",
      "class8, overlap rate is:0.8992654774396642\n",
      "class9, overlap rate is:0.8916256157635468\n",
      "avrage:0.8684851377515039\n"
     ]
    }
   ],
   "source": [
    "# VIS_MODEL_NAME =  'trustbase_gen_border'\n",
    "VIS_MODEL_NAME = 'base'\n",
    "epoch= 10\n",
    "testing_data = data_provider.test_representation(epoch)\n",
    "testing_data = testing_data.reshape(testing_data.shape[0], testing_data.shape[1])\n",
    "testing_pred = data_provider.get_pred(epoch, testing_data).argmax(axis=1)\n",
    "# Define Projector\n",
    "projector = DVIProjector(vis_model=model, content_path=CONTENT_PATH, vis_model_name=VIS_MODEL_NAME, device=DEVICE)\n",
    "emb = projector.batch_project(epoch, testing_data)\n",
    "av = get_overlap(testing_data, emb,testing_pred)"
   ]
  },
  {
   "cell_type": "code",
   "execution_count": 18,
   "metadata": {},
   "outputs": [
    {
     "name": "stdout",
     "output_type": "stream",
     "text": [
      "Successfully load the DVI visualization model for iteration 10\n",
      "class0, overlap rate is:0.696401159815794\n"
     ]
    },
    {
     "name": "stdout",
     "output_type": "stream",
     "text": [
      "class1, overlap rate is:0.5243219339622641\n",
      "class2, overlap rate is:0.5302579365079365\n",
      "class3, overlap rate is:0.6207007393121183\n",
      "class4, overlap rate is:0.6802177241027385\n",
      "class5, overlap rate is:0.6419190076614374\n",
      "class6, overlap rate is:0.5047185709470846\n",
      "class7, overlap rate is:0.5354459327017315\n",
      "class8, overlap rate is:0.5160554483242674\n",
      "class9, overlap rate is:0.5785151667504609\n",
      "avrage:0.5828553620085832\n"
     ]
    }
   ],
   "source": [
    "# Define Projector\n",
    "projector_base = DVIProjector(vis_model=model, content_path=CONTENT_PATH, vis_model_name='base', device=DEVICE)\n",
    "ebm2 = projector_base.batch_project(epoch, train_data)\n",
    "av = get_overlap(train_data, ebm2, train_data_pred_Res)"
   ]
  }
 ],
 "metadata": {
  "kernelspec": {
   "display_name": "deepdebugger",
   "language": "python",
   "name": "deepdebugger"
  },
  "language_info": {
   "codemirror_mode": {
    "name": "ipython",
    "version": 3
   },
   "file_extension": ".py",
   "mimetype": "text/x-python",
   "name": "python",
   "nbconvert_exporter": "python",
   "pygments_lexer": "ipython3",
   "version": "3.7.15"
  }
 },
 "nbformat": 4,
 "nbformat_minor": 2
}
