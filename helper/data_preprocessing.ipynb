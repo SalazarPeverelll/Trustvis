{
 "cells": [
  {
   "cell_type": "code",
   "execution_count": 1,
   "metadata": {},
   "outputs": [
    {
     "name": "stderr",
     "output_type": "stream",
     "text": [
      "/home/yifan/miniconda3/envs/deepdebugger/lib/python3.7/site-packages/tqdm/auto.py:22: TqdmWarning: IProgress not found. Please update jupyter and ipywidgets. See https://ipywidgets.readthedocs.io/en/stable/user_install.html\n",
      "  from .autonotebook import tqdm as notebook_tqdm\n"
     ]
    }
   ],
   "source": [
    "# preprocessing data to fit in DVI/TimeVis's format\n",
    "# import modules\n",
    "import sys\n",
    "import os\n",
    "import numpy as np\n",
    "import torch\n",
    "import json\n",
    "import collections"
   ]
  },
  {
   "cell_type": "code",
   "execution_count": 2,
   "metadata": {},
   "outputs": [],
   "source": [
    "CONTENT_PATH = \"/home/yifan/0ExpCifar10/googlenet/vis\""
   ]
  },
  {
   "cell_type": "code",
   "execution_count": 4,
   "metadata": {},
   "outputs": [],
   "source": [
    "sys.path.append(CONTENT_PATH)\n",
    "sys.path.append(CONTENT_PATH)\n",
    "VIS_METHOD = \"DVI\"\n",
    "with open(os.path.join(CONTENT_PATH, \"config.json\"), \"r\") as f:\n",
    "    config = json.load(f)\n",
    "config = config[VIS_METHOD]\n",
    "\n",
    "TRAINING_PARAMETER = config[\"TRAINING\"]\n",
    "NET = TRAINING_PARAMETER[\"NET\"]\n",
    "LEN = TRAINING_PARAMETER[\"train_num\"]\n",
    "EPOCH_START = config[\"EPOCH_START\"]\n",
    "EPOCH_END = config[\"EPOCH_END\"]\n",
    "EPOCH_PERIOD = config[\"EPOCH_PERIOD\"]\n",
    "import Model.model as subject_model\n",
    "net = eval(\"subject_model.{}()\".format(NET))\n",
    "model_path = os.path.join(CONTENT_PATH, \"Model\")"
   ]
  },
  {
   "cell_type": "code",
   "execution_count": 5,
   "metadata": {},
   "outputs": [],
   "source": [
    "index = list(range(LEN))\n",
    "EPOCH_PERIOD = 1\n",
    "for n_epoch in range(EPOCH_START,EPOCH_END + EPOCH_PERIOD, EPOCH_PERIOD):\n",
    "    m_path = os.path.join(model_path, \"epoch={:03d}.ckpt\".format(n_epoch-1))\n",
    "    save_param =  torch.load(m_path)\n",
    "    state_dict = save_param[\"state_dict\"]\n",
    "\n",
    "    order_dict =  collections.OrderedDict()\n",
    "    for key in state_dict.keys():\n",
    "        new_key = key.replace(\"model.\",\"\")\n",
    "        order_dict[new_key] = state_dict[key]\n",
    "\n",
    "    save_dir = os.path.join(model_path, \"Epoch_{}\".format((n_epoch) // EPOCH_PERIOD)) \n",
    "    if not os.path.exists(save_dir):\n",
    "        os.mkdir(save_dir)\n",
    "    torch.save(order_dict, os.path.join(save_dir, \"subject_model.pth\"))\n",
    "    with open(os.path.join(save_dir, \"index.json\"),\"w\") as f:\n",
    "        json.dump(index, f)\n",
    "    os.remove(m_path)"
   ]
  },
  {
   "cell_type": "code",
   "execution_count": null,
   "metadata": {},
   "outputs": [],
   "source": [
    "# index = np.random.choice(list(range(TRAIN_NUM)), size=select_num, replace=False).tolist()\n",
    "# test_idxs = np.random.choice(list(range(40000)), size=10000, replace=False).tolist()\n",
    "# for n_epoch in range(EPOCH_START,EPOCH_END + EPOCH_PERIOD, EPOCH_PERIOD):\n",
    "\n",
    "#     # state_dict =  torch.load(os.path.join(model_path, \"epoch={:03d}.ckpt\".format(n_epoch)))[\"state_dict\"]\n",
    "#     #\n",
    "#     # order_dict =  collections.OrderedDict()\n",
    "#     # for key in state_dict.keys():\n",
    "#     #     new_key = key.replace(\"model.\",\"\")\n",
    "#     #     order_dict[new_key] = state_dict[key]\n",
    "\n",
    "#     save_dir = os.path.join(model_path, \"Epoch_{}\".format((n_epoch) // EPOCH_PERIOD)) # TODO\n",
    "#     makedir_exist_ok(save_dir)\n",
    "#     # torch.save(order_dict, os.path.join(save_dir, \"subject_model.pth\"))\n",
    "#     with open(os.path.join(save_dir, \"index.json\"),\"w\") as f:\n",
    "#         json.dump(index, f)\n",
    "#     with open(os.path.join(save_dir, \"test_index.json\"),\"w\") as f:\n",
    "#         json.dump(test_idxs, f)\n"
   ]
  }
 ],
 "metadata": {
  "interpreter": {
   "hash": "aa7a9f36e1a1e240450dbe9cc8f6d8df1d5301f36681fb271c44fdd883236b60"
  },
  "kernelspec": {
   "display_name": "deepdebugger",
   "language": "python",
   "name": "deepdebugger"
  },
  "language_info": {
   "codemirror_mode": {
    "name": "ipython",
    "version": 3
   },
   "file_extension": ".py",
   "mimetype": "text/x-python",
   "name": "python",
   "nbconvert_exporter": "python",
   "pygments_lexer": "ipython3",
   "version": "3.7.15"
  },
  "orig_nbformat": 4
 },
 "nbformat": 4,
 "nbformat_minor": 2
}
