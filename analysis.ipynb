{
 "cells": [
  {
   "cell_type": "code",
   "execution_count": 2,
   "metadata": {},
   "outputs": [
    {
     "name": "stderr",
     "output_type": "stream",
     "text": [
      "/home/yifan/miniconda3/envs/deepdebugger/lib/python3.7/site-packages/tqdm/auto.py:22: TqdmWarning: IProgress not found. Please update jupyter and ipywidgets. See https://ipywidgets.readthedocs.io/en/stable/user_install.html\n",
      "  from .autonotebook import tqdm as notebook_tqdm\n"
     ]
    },
    {
     "name": "stdout",
     "output_type": "stream",
     "text": [
      "Finish initialization...\n"
     ]
    }
   ],
   "source": [
    "import numpy as np\n",
    "import matplotlib.pyplot as plt\n",
    "from scipy.stats import rankdata\n",
    "\n",
    "from singleVis.data import NormalDataProvider\n",
    "epoch = 20\n",
    "\n",
    "\n",
    "CONTENT_PATH = '/home/yifan/dataset/clean/pairflip/cifar10/0'\n",
    "import sys\n",
    "import os\n",
    "import json\n",
    "VIS_METHOD = 'DVI'\n",
    "\n",
    "sys.path.append(CONTENT_PATH)\n",
    "with open(os.path.join(CONTENT_PATH, \"config.json\"), \"r\") as f:\n",
    "    config = json.load(f)\n",
    "config = config[VIS_METHOD]\n",
    "CLASSES = config[\"CLASSES\"]\n",
    "\n",
    "TRAINING_PARAMETER = config[\"TRAINING\"]\n",
    "NET = TRAINING_PARAMETER[\"NET\"]\n",
    "\n",
    "import Model.model as subject_model\n",
    "net = eval(\"subject_model.{}()\".format(NET))\n",
    "\n",
    "data_provider = NormalDataProvider(CONTENT_PATH, net, epoch, epoch, 1, device='cuda:0', epoch_name='Epoch',classes=CLASSES,verbose=1)"
   ]
  },
  {
   "cell_type": "code",
   "execution_count": 3,
   "metadata": {},
   "outputs": [
    {
     "name": "stderr",
     "output_type": "stream",
     "text": [
      "2024-01-19 22:09:27.797706: I tensorflow/core/platform/cpu_feature_guard.cc:193] This TensorFlow binary is optimized with oneAPI Deep Neural Network Library (oneDNN) to use the following CPU instructions in performance-critical operations:  AVX2 FMA\n",
      "To enable them in other operations, rebuild TensorFlow with the appropriate compiler flags.\n",
      "2024-01-19 22:09:28.452773: W tensorflow/compiler/xla/stream_executor/platform/default/dso_loader.cc:64] Could not load dynamic library 'libnvinfer.so.7'; dlerror: libnvinfer.so.7: cannot open shared object file: No such file or directory\n",
      "2024-01-19 22:09:28.452831: W tensorflow/compiler/xla/stream_executor/platform/default/dso_loader.cc:64] Could not load dynamic library 'libnvinfer_plugin.so.7'; dlerror: libnvinfer_plugin.so.7: cannot open shared object file: No such file or directory\n",
      "2024-01-19 22:09:28.452836: W tensorflow/compiler/tf2tensorrt/utils/py_utils.cc:38] TF-TRT Warning: Cannot dlopen some TensorRT libraries. If you would like to use Nvidia GPU with TensorRT, please make sure the missing libraries mentioned above are installed properly.\n"
     ]
    },
    {
     "name": "stdout",
     "output_type": "stream",
     "text": [
      "Fri Jan 19 22:09:29 2024 Building RP forest with 16 trees\n",
      "Fri Jan 19 22:09:30 2024 NN descent for 16 iterations\n",
      "\t 1  /  16\n",
      "\t 2  /  16\n",
      "\t 3  /  16\n",
      "\t 4  /  16\n",
      "\t 5  /  16\n",
      "\tStopping threshold met -- exiting after 5 iterations\n"
     ]
    }
   ],
   "source": [
    "from umap.umap_ import fuzzy_simplicial_set, make_epochs_per_sample\n",
    "from pynndescent import NNDescent\n",
    "from sklearn.utils import check_random_state\n",
    "\n",
    "def _construct_fuzzy_complex(train_data, metric=\"euclidean\"):\n",
    "        # \"\"\"\n",
    "        # construct a vietoris-rips complex\n",
    "        # \"\"\"\n",
    "        # number of trees in random projection forest\n",
    "        n_trees = min(64, 5 + int(round((train_data.shape[0]) ** 0.5 / 20.0)))\n",
    "        # max number of nearest neighbor iters to perform\n",
    "        n_iters = max(5, int(round(np.log2(train_data.shape[0]))))\n",
    "        # distance metric\n",
    "        # # get nearest neighbors\n",
    "        \n",
    "        nnd = NNDescent(\n",
    "            train_data,\n",
    "            n_neighbors=15,\n",
    "            metric=metric,\n",
    "            n_trees=n_trees,\n",
    "            n_iters=n_iters,\n",
    "            max_candidates=60,\n",
    "            verbose=True\n",
    "        )\n",
    "        knn_indices, knn_dists = nnd.neighbor_graph\n",
    "        random_state = check_random_state(42)\n",
    "        complex, sigmas, rhos = fuzzy_simplicial_set(\n",
    "            X=train_data,\n",
    "            n_neighbors=15,\n",
    "            metric=metric,\n",
    "            random_state=random_state,\n",
    "            knn_indices=knn_indices,\n",
    "            knn_dists=knn_dists\n",
    "        )\n",
    "        return complex, sigmas, rhos, knn_indices\n",
    "train_data = data_provider.train_representation(epoch)\n",
    "train_data = train_data.reshape(len(train_data), -1)\n",
    "complex, sigmas, rhos, knn_indices = _construct_fuzzy_complex(train_data)"
   ]
  },
  {
   "cell_type": "code",
   "execution_count": 4,
   "metadata": {},
   "outputs": [],
   "source": [
    "from singleVis.backend import get_graph_elements, get_attention\n",
    "VISUALIZATION_PARAMETER = config[\"VISUALIZATION\"]\n",
    "S_N_EPOCHS = VISUALIZATION_PARAMETER[\"S_N_EPOCHS\"]\n",
    "\n",
    "_, edge_to, edge_from, weight, _ = get_graph_elements(complex, S_N_EPOCHS)\n"
   ]
  },
  {
   "cell_type": "code",
   "execution_count": 5,
   "metadata": {},
   "outputs": [
    {
     "data": {
      "image/png": "[encoded data removed]",
      "text/plain": [
       "<Figure size 640x480 with 1 Axes>"
      ]
     },
     "metadata": {},
     "output_type": "display_data"
    }
   ],
   "source": [
    "# 原始权重分布\n",
    "plt.subplot(1, 3, 1)\n",
    "plt.hist(weight, bins=30, color='blue', alpha=0.7)\n",
    "plt.title(\"Original Weights Distribution\")\n",
    "plt.tight_layout()\n",
    "plt.show()"
   ]
  },
  {
   "cell_type": "code",
   "execution_count": 6,
   "metadata": {},
   "outputs": [
    {
     "name": "stdout",
     "output_type": "stream",
     "text": [
      "0.3438932758388039\n"
     ]
    }
   ],
   "source": [
    "\n",
    "# 计算每个独特数值的频率\n",
    "values, counts = np.unique(weight, return_counts=True)\n",
    "probabilities = counts / counts.sum()\n",
    "\n",
    "# 计算期望值\n",
    "expectation = np.sum(values * probabilities)\n",
    "\n",
    "print(expectation)"
   ]
  },
  {
   "cell_type": "code",
   "execution_count": null,
   "metadata": {},
   "outputs": [],
   "source": [
    "\n",
    "d_ = (1 / _a ** (1 / (2 * _b))) * ((1 / expectation - 1) ** (1 / (2 * _b)))\n",
    "print(d_)"
   ]
  },
  {
   "cell_type": "code",
   "execution_count": 10,
   "metadata": {},
   "outputs": [
    {
     "data": {
      "text/plain": [
       "Text(0.5, 1.0, 'Rank Transformed Distribution')"
      ]
     },
     "execution_count": 10,
     "metadata": {},
     "output_type": "execute_result"
    },
    {
     "data": {
      "image/png": "[encoded data removed]",
      "text/plain": [
       "<Figure size 640x480 with 1 Axes>"
      ]
     },
     "metadata": {},
     "output_type": "display_data"
    }
   ],
   "source": [
    "# 应用排名转换\n",
    "rank_transformed_weights = rankdata(weight, method='average') / len(weight)\n",
    "plt.subplot(1, 3, 2)\n",
    "plt.hist(rank_transformed_weights, bins=30, color='green', alpha=0.7)\n",
    "plt.title(\"Rank Transformed Distribution\")"
   ]
  },
  {
   "cell_type": "code",
   "execution_count": 50,
   "metadata": {},
   "outputs": [
    {
     "name": "stdout",
     "output_type": "stream",
     "text": [
      "0.5000005179908585\n"
     ]
    }
   ],
   "source": [
    "\n",
    "\n",
    "# 计算每个独特数值的频率\n",
    "values, counts = np.unique(rank_transformed_weights, return_counts=True)\n",
    "probabilities = counts / counts.sum()\n",
    "\n",
    "# 计算期望值\n",
    "expectation = np.sum(values * probabilities)\n",
    "\n",
    "print(expectation)"
   ]
  },
  {
   "cell_type": "code",
   "execution_count": 48,
   "metadata": {},
   "outputs": [
    {
     "name": "stderr",
     "output_type": "stream",
     "text": [
      "100%|██████████| 250/250 [00:00<00:00, 425.32it/s]\n"
     ]
    }
   ],
   "source": [
    "feature_vectors_pred = data_provider.get_pred(epoch, train_data)"
   ]
  },
  {
   "cell_type": "code",
   "execution_count": 52,
   "metadata": {},
   "outputs": [
    {
     "data": {
      "text/plain": [
       "Text(0.5, 1.0, 'Prediction semantics Distortion')"
      ]
     },
     "execution_count": 52,
     "metadata": {},
     "output_type": "execute_result"
    },
    {
     "data": {
      "image/png": "[encoded data removed]",
      "text/plain": [
       "<Figure size 640x480 with 1 Axes>"
      ]
     },
     "metadata": {},
     "output_type": "display_data"
    }
   ],
   "source": [
    "edge_to_pred = feature_vectors_pred[edge_to]\n",
    "edge_from_pred = feature_vectors_pred[edge_from]\n",
    "          \n",
    "pred_similarity = np.einsum('ij,ij->i', edge_to_pred, edge_from_pred) / (np.linalg.norm(edge_to_pred, axis=1) * np.linalg.norm(edge_from_pred, axis=1))\n",
    "\n",
    "# pred_probs = np.where(rank_transformed_weights == 1,1,np.where(pred_similarity < 0, rank_transformed_weights * (1 + pred_similarity), rank_transformed_weights + (1 - rank_transformed_weights) * rank_transformed_weights * pred_similarity))\n",
    "\n",
    "\n",
    "pred_probs = np.where(weight == 1,1,np.where(pred_similarity < 0, weight * (1 + pred_similarity), weight + (1 - weight) * weight * pred_similarity))\n",
    "            \n",
    "plt.subplot(1, 3, 2)\n",
    "plt.hist(pred_probs, bins=30, color='green', alpha=0.7)\n",
    "plt.title(\"Prediction semantics Distortion\")"
   ]
  },
  {
   "cell_type": "code",
   "execution_count": 57,
   "metadata": {},
   "outputs": [
    {
     "name": "stdout",
     "output_type": "stream",
     "text": [
      "0.48537045873625645\n"
     ]
    }
   ],
   "source": [
    "\n",
    "# 计算每个独特数值的频率\n",
    "values, counts = np.unique(pred_probs, return_counts=True)\n",
    "probabilities = counts / counts.sum()\n",
    "\n",
    "# 计算期望值\n",
    "expectation = np.sum(values * probabilities)\n",
    "\n",
    "print(expectation)"
   ]
  },
  {
   "cell_type": "code",
   "execution_count": 59,
   "metadata": {},
   "outputs": [
    {
     "name": "stdout",
     "output_type": "stream",
     "text": [
      "0.8011182663516885\n"
     ]
    }
   ],
   "source": [
    "from umap.umap_ import find_ab_params\n",
    "min_dist = .1\n",
    "_a, _b = find_ab_params(1.0, min_dist)\n",
    "\n",
    "d_ = (1 / _a ** (1 / (2 * _b))) * ((1 / expectation - 1) ** (1 / (2 * _b)))\n",
    "print(d_)\n"
   ]
  },
  {
   "cell_type": "code",
   "execution_count": null,
   "metadata": {},
   "outputs": [],
   "source": []
  },
  {
   "cell_type": "code",
   "execution_count": 54,
   "metadata": {},
   "outputs": [
    {
     "name": "stdout",
     "output_type": "stream",
     "text": [
      "965268\n",
      "867994\n"
     ]
    },
    {
     "data": {
      "image/png": "[encoded data removed]",
      "text/plain": [
       "<Figure size 640x480 with 1 Axes>"
      ]
     },
     "metadata": {},
     "output_type": "display_data"
    }
   ],
   "source": [
    "# 原始权重分布\n",
    "weight = np.load('probs_for_epoch20.npy')\n",
    "show_weight = np.load('pred_probs_for_epoch20.npy')\n",
    "print(len(show_weight))\n",
    "n_weight = show_weight[weight < 0.9]\n",
    "print(len(n_weight))\n",
    "plt.subplot(1, 3, 1)\n",
    "plt.hist(n_weight, bins=30, color='blue', alpha=0.7)\n",
    "plt.title(\"Original Weights Distribution\")\n",
    "plt.tight_layout()\n",
    "plt.show()"
   ]
  },
  {
   "cell_type": "code",
   "execution_count": 55,
   "metadata": {},
   "outputs": [
    {
     "name": "stdout",
     "output_type": "stream",
     "text": [
      "0.6160963659501866\n"
     ]
    }
   ],
   "source": [
    "\n",
    "# 计算每个独特数值的频率\n",
    "values, counts = np.unique(n_weight, return_counts=True)\n",
    "probabilities = counts / counts.sum()\n",
    "\n",
    "# 计算期望值\n",
    "expectation = np.sum(values * probabilities)\n",
    "\n",
    "print(expectation)"
   ]
  },
  {
   "cell_type": "code",
   "execution_count": 5,
   "metadata": {},
   "outputs": [],
   "source": [
    "from umap.umap_ import find_ab_params\n",
    "min_dist = .1\n",
    "_a, _b = find_ab_params(1.0, min_dist)\n",
    "\n",
    "# d_ = (1 / _a ** (1 / (2 * _b))) * ((1 / expectation - 1) ** (1 / (2 * _b)))\n"
   ]
  },
  {
   "cell_type": "code",
   "execution_count": 6,
   "metadata": {},
   "outputs": [
    {
     "data": {
      "text/plain": [
       "(1.5769434604035877, 0.8950608780665811)"
      ]
     },
     "execution_count": 6,
     "metadata": {},
     "output_type": "execute_result"
    }
   ],
   "source": [
    "_a, _b"
   ]
  },
  {
   "cell_type": "code",
   "execution_count": 1,
   "metadata": {},
   "outputs": [
    {
     "name": "stderr",
     "output_type": "stream",
     "text": [
      "/home/yifan/miniconda3/envs/deepdebugger/lib/python3.7/site-packages/tqdm/auto.py:22: TqdmWarning: IProgress not found. Please update jupyter and ipywidgets. See https://ipywidgets.readthedocs.io/en/stable/user_install.html\n",
      "  from .autonotebook import tqdm as notebook_tqdm\n",
      "2024-01-20 21:37:42.712776: I tensorflow/core/platform/cpu_feature_guard.cc:193] This TensorFlow binary is optimized with oneAPI Deep Neural Network Library (oneDNN) to use the following CPU instructions in performance-critical operations:  AVX2 FMA\n",
      "To enable them in other operations, rebuild TensorFlow with the appropriate compiler flags.\n",
      "2024-01-20 21:37:43.899981: W tensorflow/compiler/xla/stream_executor/platform/default/dso_loader.cc:64] Could not load dynamic library 'libnvinfer.so.7'; dlerror: libnvinfer.so.7: cannot open shared object file: No such file or directory\n",
      "2024-01-20 21:37:43.900043: W tensorflow/compiler/xla/stream_executor/platform/default/dso_loader.cc:64] Could not load dynamic library 'libnvinfer_plugin.so.7'; dlerror: libnvinfer_plugin.so.7: cannot open shared object file: No such file or directory\n",
      "2024-01-20 21:37:43.900049: W tensorflow/compiler/tf2tensorrt/utils/py_utils.cc:38] TF-TRT Warning: Cannot dlopen some TensorRT libraries. If you would like to use Nvidia GPU with TensorRT, please make sure the missing libraries mentioned above are installed properly.\n"
     ]
    }
   ],
   "source": [
    "from umap.umap_ import find_ab_params\n",
    "min_dist = .1\n",
    "_a, _b = find_ab_params(1.0, min_dist)"
   ]
  },
  {
   "cell_type": "code",
   "execution_count": 2,
   "metadata": {},
   "outputs": [],
   "source": [
    "w = 1/ (1 + 0.1 ** (2*_b) * _a)"
   ]
  },
  {
   "cell_type": "markdown",
   "metadata": {},
   "source": []
  },
  {
   "cell_type": "code",
   "execution_count": 3,
   "metadata": {},
   "outputs": [
    {
     "data": {
      "text/plain": [
       "0.9750695587933784"
      ]
     },
     "execution_count": 3,
     "metadata": {},
     "output_type": "execute_result"
    }
   ],
   "source": [
    "w"
   ]
  },
  {
   "cell_type": "code",
   "execution_count": 15,
   "metadata": {},
   "outputs": [
    {
     "name": "stdout",
     "output_type": "stream",
     "text": [
      "4.576263304051438\n"
     ]
    }
   ],
   "source": [
    "from umap.umap_ import find_ab_params\n",
    "min_dist = .1\n",
    "_a, _b = find_ab_params(1.0, min_dist)\n",
    "\n",
    "expectation = 0.04\n",
    "\n",
    "d_ = (1 / _a ** (1 / (2 * _b))) * ((1 / expectation - 1) ** (1 / (2 * _b)))\n",
    "print(d_)"
   ]
  },
  {
   "cell_type": "code",
   "execution_count": 13,
   "metadata": {},
   "outputs": [
    {
     "data": {
      "text/plain": [
       "3.60607707265276"
      ]
     },
     "execution_count": 13,
     "metadata": {},
     "output_type": "execute_result"
    }
   ],
   "source": [
    "d_"
   ]
  },
  {
   "cell_type": "code",
   "execution_count": null,
   "metadata": {},
   "outputs": [],
   "source": [
    "import math\n",
    "attraction_term = - 0.9 * math.log(1/0.5)\n",
    "repellent_term = -(1.0 - 0.9)* math.log()\n"
   ]
  }
 ],
 "metadata": {
  "kernelspec": {
   "display_name": "deepdebugger",
   "language": "python",
   "name": "deepdebugger"
  },
  "language_info": {
   "codemirror_mode": {
    "name": "ipython",
    "version": 3
   },
   "file_extension": ".py",
   "mimetype": "text/x-python",
   "name": "python",
   "nbconvert_exporter": "python",
   "pygments_lexer": "ipython3",
   "version": "3.7.15"
  }
 },
 "nbformat": 4,
 "nbformat_minor": 2
}
